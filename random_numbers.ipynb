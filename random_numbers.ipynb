{
 "cells": [
  {
   "cell_type": "code",
   "execution_count": 1,
   "id": "08da9673",
   "metadata": {},
   "outputs": [],
   "source": [
    "# Import the random module\n",
    "import random"
   ]
  },
  {
   "cell_type": "code",
   "execution_count": 5,
   "id": "02ae0333",
   "metadata": {},
   "outputs": [
    {
     "data": {
      "text/plain": [
       "25.098706836893466"
      ]
     },
     "execution_count": 5,
     "metadata": {},
     "output_type": "execute_result"
    }
   ],
   "source": [
    "random_number = random.randint(-90, 89) + random.random()\n",
    "random_number"
   ]
  },
  {
   "cell_type": "code",
   "execution_count": 6,
   "id": "9878de40",
   "metadata": {},
   "outputs": [],
   "source": [
    "# imoort the Numpy module\n",
    "import numpy as np\n"
   ]
  },
  {
   "cell_type": "code",
   "execution_count": 8,
   "id": "4add5a49",
   "metadata": {},
   "outputs": [
    {
     "data": {
      "text/plain": [
       "array([ 83.09651265,   3.9060898 , -80.26904809, -74.8030127 ,\n",
       "       -31.50672544, -10.08801476, -87.40137683,  55.74167543,\n",
       "        55.80029272, -80.39300854, -16.51430792,  84.64040752,\n",
       "       -12.0009205 ,  44.86661979,   8.03561808,  32.19207203,\n",
       "        36.22758418,  76.19060256, -62.15148704,  49.21195545,\n",
       "        85.02287198,  69.59447687, -72.1371986 , -12.90234763,\n",
       "       -65.25227791,  57.43821355, -43.62998074,  14.4059537 ,\n",
       "        78.09131118,  16.94179272, -59.24779786, -72.36307909,\n",
       "        84.48627406, -66.24131318,  75.0210862 , -75.60083621,\n",
       "         7.52994813,  -7.80746865,   4.24650833, -19.75290391,\n",
       "       -12.70430544,  65.45424072,  58.00442815, -73.23689692,\n",
       "        27.44874192, -49.49996942,  18.34659784, -18.12314943,\n",
       "        61.08307004,  31.21451423])"
      ]
     },
     "execution_count": 8,
     "metadata": {},
     "output_type": "execute_result"
    }
   ],
   "source": [
    "np.random.uniform(-90.000, 90.000, size=50)\n"
   ]
  },
  {
   "cell_type": "code",
   "execution_count": 9,
   "id": "1665964d",
   "metadata": {},
   "outputs": [],
   "source": [
    "# import timeit\n",
    "import timeit"
   ]
  },
  {
   "cell_type": "code",
   "execution_count": 10,
   "id": "8eaff195",
   "metadata": {},
   "outputs": [
    {
     "name": "stdout",
     "output_type": "stream",
     "text": [
      "25.7 µs ± 3.27 µs per loop (mean ± std. dev. of 7 runs, 10000 loops each)\n"
     ]
    }
   ],
   "source": [
    "%timeit np.random.uniform(-90.000, 90.000, size=1500)"
   ]
  },
  {
   "cell_type": "code",
   "execution_count": null,
   "id": "d3398b88",
   "metadata": {},
   "outputs": [],
   "source": []
  }
 ],
 "metadata": {
  "kernelspec": {
   "display_name": "PythonData",
   "language": "python",
   "name": "pythondata"
  },
  "language_info": {
   "codemirror_mode": {
    "name": "ipython",
    "version": 3
   },
   "file_extension": ".py",
   "mimetype": "text/x-python",
   "name": "python",
   "nbconvert_exporter": "python",
   "pygments_lexer": "ipython3",
   "version": "3.7.13"
  }
 },
 "nbformat": 4,
 "nbformat_minor": 5
}
